{
 "cells": [
  {
   "cell_type": "code",
   "execution_count": 1,
   "metadata": {},
   "outputs": [],
   "source": [
    "import numpy as np\n",
    "import matplotlib.pyplot as plt\n",
    "import pandas as pd\n",
    "import seaborn as sns\n",
    "\n",
    "from sklearn.datasets import load_iris"
   ]
  },
  {
   "cell_type": "markdown",
   "metadata": {},
   "source": [
    "Questão 01\n",
    "\n",
    "$X$ is a continuous-valued random variable with uniform density in $[-1,+1]$."
   ]
  },
  {
   "cell_type": "markdown",
   "metadata": {},
   "source": [
    "<!-- (a) Draw its probability density function. What is the area under the curve? Justify your answer. -->"
   ]
  },
  {
   "cell_type": "markdown",
   "metadata": {},
   "source": [
    "Para a função de densidade de probabilidade, temos que:\n",
    "\n",
    "$$\\int_{-\\infty}^{\\infty} f(x) \\,dx = 1$$\n",
    "\n",
    "No caso, como a densidade é uniforme: $f(x) = C$\n",
    "\n",
    "E como a função está definida apenas no intervalo $[-1,1]$:\n",
    "\n",
    "$$\\int_{-1}^{1} C \\,dx = 1$$\n",
    "\n",
    "$$C [1 - (-1)] = 1$$\n",
    "\n",
    "$$2C = 1$$\n",
    "\n",
    "$$C = \\frac{1}{2}$$\n",
    "\n",
    "A área da função de densiddade de probabilidade é dada pela integral da função em seu domínio definido. Esta integral por definição é sempre igual a 1.\n",
    "\n",
    "A curva é dada pela constante $\\frac{1}{2}$ no domínio definido."
   ]
  },
  {
   "cell_type": "code",
   "execution_count": 2,
   "metadata": {},
   "outputs": [
    {
     "data": {
      "image/png": "[encoded data removed]",
      "text/plain": [
       "<Figure size 432x288 with 1 Axes>"
      ]
     },
     "metadata": {
      "needs_background": "light"
     },
     "output_type": "display_data"
    }
   ],
   "source": [
    "plt.plot([-1, 1], [0.5, 0.5])\n",
    "plt.xlim([-1, 1])\n",
    "plt.ylim([0, 1])\n",
    "plt.yticks(np.arange(0, 1.1, step = 0.1))\n",
    "plt.xlabel('x')\n",
    "plt.ylabel('f(x)')\n",
    "plt.show()"
   ]
  },
  {
   "cell_type": "markdown",
   "metadata": {},
   "source": [
    "<!-- (b) Draw its cumulative distribution function. -->"
   ]
  },
  {
   "cell_type": "markdown",
   "metadata": {},
   "source": [
    "A função de distribuição cumulativa é dada por:\n",
    "\n",
    "$$F(x) = \\int_{-\\infty}^{x} f(t)\\,dt$$\n",
    "\n",
    "Neste caso:\n",
    "\n",
    "$$f(t) = \\frac{1}{2},\\ t \\in [-1, 1] $$\n",
    "\n",
    "Assim, temos que $t = 0$ no intervalo $[-\\infty, -1]$.\n",
    "\n",
    "Logo\n",
    "\n",
    "$$F(x) = \\int_{-1}^{x} \\frac{1}{2}\\,dt$$\n",
    "\n",
    "$$F(x) = \\frac{1}{2} [x - (-1)]$$\n",
    "\n",
    "$$F(x) = \\frac{x + 1}{2}$$"
   ]
  },
  {
   "cell_type": "code",
   "execution_count": 3,
   "metadata": {},
   "outputs": [
    {
     "data": {
      "image/png": "[encoded data removed]",
      "text/plain": [
       "<Figure size 432x288 with 1 Axes>"
      ]
     },
     "metadata": {
      "needs_background": "light"
     },
     "output_type": "display_data"
    }
   ],
   "source": [
    "x = np.linspace(-1, 1, 100)\n",
    "plt.plot(x, (x + 1)/2)\n",
    "plt.xlim([-1, 1])\n",
    "plt.ylim([0, 1])\n",
    "plt.yticks(np.arange(0, 1.1, step = 0.1))\n",
    "plt.xlabel('x')\n",
    "plt.ylabel('F(x)')\n",
    "plt.show()"
   ]
  },
  {
   "cell_type": "markdown",
   "metadata": {},
   "source": [
    "(c) Calculate the probability of the event $X\\in(-0.2,0.2)$"
   ]
  },
  {
   "cell_type": "markdown",
   "metadata": {},
   "source": [
    "Para calcular a probablidade do evento $X$ em um intervalo, podemos usar a seguinte relação:\n",
    "\n",
    "$$P(a \\leq X \\leq b) = F(b) - F(a)$$\n",
    "\n",
    "Portanto:\n",
    "\n",
    "$$P(-0.2 \\leq X \\leq 0.2) = F(0.2) - F(-0.2)$$\n",
    "\n",
    "$$P(-0.2 \\leq X \\leq 0.2) = \\frac{0.2 + 1}{2} - \\frac{-0.2 + 1}{2}$$\n",
    "\n",
    "$$P(-0.2 \\leq X \\leq 0.2) = 0.2$$"
   ]
  },
  {
   "cell_type": "markdown",
   "metadata": {},
   "source": [
    "(d) Calculate the expected value $\\mathbf{E}[X]$, the second $\\mathbf{E}[X^2]$ and the fourth moment $\\mathbf{E}[X^4]$ of the random variable. Calculate its variance $\\mathrm{Var}[X]$, as well."
   ]
  },
  {
   "cell_type": "markdown",
   "metadata": {},
   "source": [
    "A esperança é definida como:\n",
    "\n",
    "$$\\mathbf{E}[X] = \\int_{-\\infty}^{\\infty} xf(x) \\,dx$$\n",
    "\n",
    "Já seu segundo e quarto momento:\n",
    "\n",
    "$$\\mathbf{E}[X^2] = \\int_{-\\infty}^{\\infty} x^2 f(x) \\,dx$$\n",
    "\n",
    "$$\\mathbf{E}[X^4] = \\int_{-\\infty}^{\\infty} x^4 f(x) \\,dx$$\n",
    "\n",
    "E a variância é dada por:\n",
    "\n",
    "$$\\mathrm{Var}[X] = \\mathbf{E}[X^2] - \\mathbf{E^2}[X]$$\n",
    "\n",
    "Para $f(x) = \\frac{1}{2} \\forall x \\in [-1,1]$, temos:\n",
    "\n",
    "Primeiro momento\n",
    "$$\\mathbf{E}[X] = \\int_{-1}^{1} \\frac{x}{2} \\,dx = \\frac{1}{4}[1^2 - (-1)^2]$$\n",
    "\n",
    "$$\\mathbf{E}[X] = 0 $$\n",
    "\n",
    "Segundo momento\n",
    "$$\\mathbf{E}[X^2] = \\int_{-1}^{1} x^2 \\frac{1}{2} \\,dx = \\frac{1}{6}[1^3 - (-1)^3]$$\n",
    "\n",
    "$$\\mathbf{E}[X^2] = \\frac{1}{3}$$\n",
    "\n",
    "Quarto momento\n",
    "\n",
    "$$\\mathbf{E}[X^4] = \\int_{-1}^{1} x^4 \\frac{1}{2} \\,dx = \\frac{1}{10}[1^5 - (-1)^5]$$\n",
    "\n",
    "$$\\mathbf{E}[X^2] = \\frac{1}{5}$$\n",
    "\n",
    "Variância\n",
    "\n",
    "$$\\mathrm{Var}[X] = \\mathbf{E}[X^2] - \\mathbf{E^2}[X]$$\n",
    "\n",
    "$$\\mathrm{Var}[X] = \\frac{1}{3} - 0$$\n",
    "\n",
    "$$\\mathrm{Var}[X] = \\frac{1}{3}$$"
   ]
  },
  {
   "cell_type": "markdown",
   "metadata": {},
   "source": [
    "Questão 02\n",
    "\n",
    "$X$   is   a   discrete-valued   random   variable   with   uniform distribution   over   the   set $\\{-2,-1,0,1,2\\}$. Draw its probability mass function and calculate $\\mathbf{E}[X]$ and $\\mathrm{Var}[X]$."
   ]
  },
  {
   "cell_type": "markdown",
   "metadata": {},
   "source": [
    "Como a distribuição é uniforme, portanto a probabilidade $p(x_i)$ dever ser igual para todo $x_i$, dado que a soma deve ser igual a 1."
   ]
  },
  {
   "cell_type": "code",
   "execution_count": 4,
   "metadata": {},
   "outputs": [
    {
     "data": {
      "image/png": "[encoded data removed]",
      "text/plain": [
       "<Figure size 432x288 with 1 Axes>"
      ]
     },
     "metadata": {
      "needs_background": "light"
     },
     "output_type": "display_data"
    }
   ],
   "source": [
    "plt.stem([-2, -1, 0, 1, 2], [0.2, 0.2, 0.2, 0.2, 0.2])\n",
    "plt.xlim([-2.5, 2.5])\n",
    "plt.ylim([0, 0.4])\n",
    "plt.xlabel('x')\n",
    "plt.ylabel('f(x)')\n",
    "plt.show()"
   ]
  },
  {
   "cell_type": "markdown",
   "metadata": {},
   "source": [
    "A esperança é dada por:\n",
    "\n",
    "$$\\mathbf{E}[X] = \\sum_{i=1}^{n}{x_i}p(x_i)$$\n",
    "\n",
    "E a variância por:\n",
    "\n",
    "$$\\mathrm{Var}[X] = \\mathbf{E}[X^2] - \\mathbf{E^2}[X]$$\n",
    "\n",
    "Portanto:\n",
    "\n",
    "Primeiro momento\n",
    "\n",
    "$$\\mathbf{E}[X] = ((-2) \\times 0.2) + ((-1) \\times 0.2) + (0 \\times 0.2) + (1 \\times 0.2) + (2 \\times 0.2)$$\n",
    "\n",
    "$$\\mathbf{E}[X] = 0.2 \\times ((-2) + (-1) + 0 + 1 + 2)$$\n",
    "\n",
    "$$\\mathbf{E}[X] = 0$$\n",
    "\n",
    "Segundo momento\n",
    "\n",
    "$$\\mathbf{E}[X^2] = ((-2)^2 \\times (0.2)) + ((-1)^2 \\times (0.2)) + (0^2 \\times (0.2)) + (1^2 \\times (0.2)) + (2^2 \\times (0.2))$$\n",
    "\n",
    "$$\\mathbf{E}[X^2] = 0.2 \\times ((-2)^2 + (-1)^2 + 0^2 + 1^2 + 2^2)$$\n",
    "\n",
    "$$\\mathbf{E}[X^2] = 0.2 \\times 10$$\n",
    "\n",
    "$$\\mathbf{E}[X^2] = 1$$\n",
    "\n",
    "Variância\n",
    "\n",
    "$$\\mathrm{Var}[X] = \\mathbf{E}[X^2] - \\mathbf{E^2}[X]$$\n",
    "\n",
    "$$\\mathrm{Var}[X] = 1$$"
   ]
  },
  {
   "cell_type": "markdown",
   "metadata": {},
   "source": [
    "Questão 03\n",
    "\n",
    "Based on the following estimators:\n",
    "- Sample mean: $m = \\frac{1}{N} \\sum_{t=1}^{N} x^t$\n",
    "- Sample variance: $s^2 = \\frac{1}{N} \\sum_{t=1}^{N} (x^t - m)^2$\n",
    "- Sample standard deviation: $s = \\sqrt{\\frac{1}{N} \\sum_{t=1}^{N} (x^t - m)^2}$\n",
    "- Sample covariance: $s_{ij} = \\frac{1}{N} \\sum_{t=1}^{N} (x_i^t - m_i)(x_j^t - m_j)$\n",
    "- Sample correlation coefficient: $r_{ij}=\\frac{s_ij}{s_i s_j}$\n",
    "\n",
    " \n",
    "\n",
    "Calculate $r_{ij}$ between two features of a dataset. Choose features that you expect to be interconnected. Present all the aforementioned metrics, as well. Use a numerical software of your own choice and explain the steps of your solution."
   ]
  },
  {
   "cell_type": "markdown",
   "metadata": {},
   "source": [
    "Para esta questão, escolhi o dataset de Iris. Iris é um dataset clássico para aprendizado de técnicas de classificação, contendo 150 observações de 3 tipos de íris de uma planta. \n",
    "Suas features são a largura e comprimento da pétala e largura e comprimento da sépala da flor."
   ]
  },
  {
   "cell_type": "markdown",
   "metadata": {},
   "source": [
    "Primeiro, define-se as funções utilizadas para chegar na função do coeficiente de correlação."
   ]
  },
  {
   "cell_type": "code",
   "execution_count": 40,
   "metadata": {},
   "outputs": [],
   "source": [
    "def sample_mean(sample):\n",
    "    mean = 0\n",
    "\n",
    "    for element in sample:\n",
    "        mean += element\n",
    "        \n",
    "    mean = mean/len(sample)\n",
    "    return mean\n",
    "\n",
    "def sample_variance(sample):\n",
    "    var = 0\n",
    "    \n",
    "    for element in sample:\n",
    "        var += (element - sample_mean(sample))**2\n",
    "\n",
    "    var = var/len(sample)\n",
    "    return var\n",
    "\n",
    "def sample_std(sample):\n",
    "    return np.sqrt(sample_variance(sample))\n",
    "\n",
    "def sample_cov(sample_i, sample_j):\n",
    "    cov = 0\n",
    "\n",
    "    for i in range(len(sample_i)):\n",
    "        cov += (sample_i[i] - sample_mean(sample_i))*(sample_j[i] - sample_mean(sample_j))\n",
    "\n",
    "    cov = cov/len(sample_i)\n",
    "    return cov\n",
    "\n",
    "def sample_cor(sample_i, sample_j):\n",
    "    return sample_cov(sample_i, sample_j)/(sample_std(sample_i)*sample_std(sample_j))\n"
   ]
  },
  {
   "cell_type": "markdown",
   "metadata": {},
   "source": [
    "Carrega-se o dataset para se observar as features."
   ]
  },
  {
   "cell_type": "code",
   "execution_count": 104,
   "metadata": {},
   "outputs": [
    {
     "data": {
      "text/html": [
       "<div>\n",
       "<style scoped>\n",
       "    .dataframe tbody tr th:only-of-type {\n",
       "        vertical-align: middle;\n",
       "    }\n",
       "\n",
       "    .dataframe tbody tr th {\n",
       "        vertical-align: top;\n",
       "    }\n",
       "\n",
       "    .dataframe thead th {\n",
       "        text-align: right;\n",
       "    }\n",
       "</style>\n",
       "<table border=\"1\" class=\"dataframe\">\n",
       "  <thead>\n",
       "    <tr style=\"text-align: right;\">\n",
       "      <th></th>\n",
       "      <th>sepal length (cm)</th>\n",
       "      <th>sepal width (cm)</th>\n",
       "      <th>petal length (cm)</th>\n",
       "      <th>petal width (cm)</th>\n",
       "    </tr>\n",
       "  </thead>\n",
       "  <tbody>\n",
       "    <tr>\n",
       "      <th>0</th>\n",
       "      <td>5.1</td>\n",
       "      <td>3.5</td>\n",
       "      <td>1.4</td>\n",
       "      <td>0.2</td>\n",
       "    </tr>\n",
       "    <tr>\n",
       "      <th>1</th>\n",
       "      <td>4.9</td>\n",
       "      <td>3.0</td>\n",
       "      <td>1.4</td>\n",
       "      <td>0.2</td>\n",
       "    </tr>\n",
       "    <tr>\n",
       "      <th>2</th>\n",
       "      <td>4.7</td>\n",
       "      <td>3.2</td>\n",
       "      <td>1.3</td>\n",
       "      <td>0.2</td>\n",
       "    </tr>\n",
       "    <tr>\n",
       "      <th>3</th>\n",
       "      <td>4.6</td>\n",
       "      <td>3.1</td>\n",
       "      <td>1.5</td>\n",
       "      <td>0.2</td>\n",
       "    </tr>\n",
       "    <tr>\n",
       "      <th>4</th>\n",
       "      <td>5.0</td>\n",
       "      <td>3.6</td>\n",
       "      <td>1.4</td>\n",
       "      <td>0.2</td>\n",
       "    </tr>\n",
       "    <tr>\n",
       "      <th>5</th>\n",
       "      <td>5.4</td>\n",
       "      <td>3.9</td>\n",
       "      <td>1.7</td>\n",
       "      <td>0.4</td>\n",
       "    </tr>\n",
       "    <tr>\n",
       "      <th>6</th>\n",
       "      <td>4.6</td>\n",
       "      <td>3.4</td>\n",
       "      <td>1.4</td>\n",
       "      <td>0.3</td>\n",
       "    </tr>\n",
       "    <tr>\n",
       "      <th>7</th>\n",
       "      <td>5.0</td>\n",
       "      <td>3.4</td>\n",
       "      <td>1.5</td>\n",
       "      <td>0.2</td>\n",
       "    </tr>\n",
       "    <tr>\n",
       "      <th>8</th>\n",
       "      <td>4.4</td>\n",
       "      <td>2.9</td>\n",
       "      <td>1.4</td>\n",
       "      <td>0.2</td>\n",
       "    </tr>\n",
       "    <tr>\n",
       "      <th>9</th>\n",
       "      <td>4.9</td>\n",
       "      <td>3.1</td>\n",
       "      <td>1.5</td>\n",
       "      <td>0.1</td>\n",
       "    </tr>\n",
       "  </tbody>\n",
       "</table>\n",
       "</div>"
      ],
      "text/plain": [
       "   sepal length (cm)  sepal width (cm)  petal length (cm)  petal width (cm)\n",
       "0                5.1               3.5                1.4               0.2\n",
       "1                4.9               3.0                1.4               0.2\n",
       "2                4.7               3.2                1.3               0.2\n",
       "3                4.6               3.1                1.5               0.2\n",
       "4                5.0               3.6                1.4               0.2\n",
       "5                5.4               3.9                1.7               0.4\n",
       "6                4.6               3.4                1.4               0.3\n",
       "7                5.0               3.4                1.5               0.2\n",
       "8                4.4               2.9                1.4               0.2\n",
       "9                4.9               3.1                1.5               0.1"
      ]
     },
     "metadata": {},
     "output_type": "display_data"
    }
   ],
   "source": [
    "X = load_iris()['data']\n",
    "df = pd.DataFrame(X, columns = load_iris().feature_names)\n",
    "display(df.head(10))"
   ]
  },
  {
   "cell_type": "code",
   "execution_count": 70,
   "metadata": {},
   "outputs": [
    {
     "data": {
      "image/png": "[encoded data removed]",
      "text/plain": [
       "<Figure size 432x288 with 1 Axes>"
      ]
     },
     "metadata": {
      "needs_background": "light"
     },
     "output_type": "display_data"
    }
   ],
   "source": [
    "sns.scatterplot(x = 'sepal length (cm)', y = 'petal length (cm)', data = df, hue = load_iris().target, palette = 'Accent')\n",
    "plt.show()"
   ]
  },
  {
   "cell_type": "markdown",
   "metadata": {},
   "source": [
    "É possível observar que o cumprimento entre as sépalas e as pétalas aparentam uma alta correlação."
   ]
  },
  {
   "cell_type": "code",
   "execution_count": 102,
   "metadata": {},
   "outputs": [],
   "source": [
    "mean_sepal = sample_mean(X[:, 0])\n",
    "mean_petal = sample_mean(X[:, 2])\n",
    "\n",
    "var_sepal = sample_variance(X[:, 0])\n",
    "var_petal = sample_variance(X[:, 2])\n",
    "\n",
    "std_sepal = sample_std(X[:, 0])\n",
    "std_petal = sample_std(X[:, 2])\n",
    "\n",
    "cov_sepal = sample_cov(X[:, 0], X[:, 2])\n",
    "\n",
    "coef_corr = sample_cor(X[:, 0], X[:, 2])"
   ]
  },
  {
   "cell_type": "markdown",
   "metadata": {},
   "source": [
    "Agora, podemos ovservar as métricas para as duas features."
   ]
  },
  {
   "cell_type": "code",
   "execution_count": 103,
   "metadata": {
    "scrolled": true
   },
   "outputs": [
    {
     "name": "stdout",
     "output_type": "stream",
     "text": [
      "Média Sépala: 5.843333333333335 Média Pétala: 3.7580000000000027\n",
      "Variância Sépala: 0.6811222222222222 Variância Pétala: 3.0955026666666674\n",
      "Desvio Padrão Sépala: 0.8253012917851409 Desvio Padrão Pétala: 1.7594040657753032\n",
      "Covariância: 1.2658199999999995\n",
      "Coefieciente de Correlação: 0.8717537758865828\n"
     ]
    }
   ],
   "source": [
    "print(f'Média Sépala: {mean_sepal}', f'Média Pétala: {mean_petal}')\n",
    "print(f'Variância Sépala: {var_sepal}', f'Variância Pétala: {var_petal}')\n",
    "print(f'Desvio Padrão Sépala: {std_sepal}', f'Desvio Padrão Pétala: {std_petal}')\n",
    "\n",
    "print(f'Covariância: {cov_sepal}')\n",
    "print(f'Coefieciente de Correlação: {coef_corr}')"
   ]
  },
  {
   "cell_type": "markdown",
   "metadata": {},
   "source": []
  },
  {
   "cell_type": "code",
   "execution_count": null,
   "metadata": {},
   "outputs": [],
   "source": []
  }
 ],
 "metadata": {
  "authors": [
   {
    "name": "Ricardo Marra - 19/0137576"
   }
  ],
  "interpreter": {
   "hash": "bec1eb21d5c573ef241fe0bb4d7f9dedad95c5a25d2d1d10bf98f281a04b5b82"
  },
  "kernelspec": {
   "display_name": "Python 3 (ipykernel)",
   "language": "python",
   "name": "python3"
  },
  "language_info": {
   "codemirror_mode": {
    "name": "ipython",
    "version": 3
   },
   "file_extension": ".py",
   "mimetype": "text/x-python",
   "name": "python",
   "nbconvert_exporter": "python",
   "pygments_lexer": "ipython3",
   "version": "3.9.6"
  },
  "title": "Aprendizado de Máquina - Lista 01"
 },
 "nbformat": 4,
 "nbformat_minor": 2
}
